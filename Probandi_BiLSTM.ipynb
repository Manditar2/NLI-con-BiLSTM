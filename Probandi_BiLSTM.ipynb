{
  "nbformat": 4,
  "nbformat_minor": 0,
  "metadata": {
    "colab": {
      "provenance": [],
      "authorship_tag": "ABX9TyNK0pE1oGhoRMFOiBN1xMh2",
      "include_colab_link": true
    },
    "kernelspec": {
      "name": "python3",
      "display_name": "Python 3"
    },
    "language_info": {
      "name": "python"
    }
  },
  "cells": [
    {
      "cell_type": "markdown",
      "metadata": {
        "id": "view-in-github",
        "colab_type": "text"
      },
      "source": [
        "<a href=\"https://colab.research.google.com/github/Manditar2/NLI-con-BiLSTM/blob/main/Probandi_BiLSTM.ipynb\" target=\"_parent\"><img src=\"https://colab.research.google.com/assets/colab-badge.svg\" alt=\"Open In Colab\"/></a>"
      ]
    },
    {
      "cell_type": "code",
      "source": [
        "import tensorflow as tf\n",
        "import keras.backend as K\n",
        "import nltk\n",
        "from tensorflow import keras\n",
        "from keras.models import Model\n",
        "from keras.optimizers import RMSprop\n",
        "from keras.regularizers import l2\n",
        "from keras.layers import Input, Embedding, Dense, Dropout, TimeDistributed, BatchNormalization, Bidirectional, LSTM, concatenate\n",
        "from keras.layers import BatchNormalization, Lambda, concatenate\n",
        "from keras.callbacks import EarlyStopping, ModelCheckpoint, ReduceLROnPlateau\n",
        "from keras.utils import pad_sequences\n",
        "from keras.preprocessing.text import Tokenizer\n",
        "from keras.utils import to_categorical\n",
        "import tempfile"
      ],
      "metadata": {
        "id": "pmqvgvpB8GJm"
      },
      "execution_count": null,
      "outputs": []
    },
    {
      "cell_type": "code",
      "source": [
        "import numpy as np\n",
        "import pandas as pd\n",
        "import matplotlib.pyplot as plt\n",
        "import seaborn as sns\n",
        "import re\n",
        "import string"
      ],
      "metadata": {
        "id": "jFKxfMQvUsaW"
      },
      "execution_count": null,
      "outputs": []
    },
    {
      "cell_type": "code",
      "source": [
        "from nltk.corpus import stopwords\n",
        "from nltk.stem.snowball import SnowballStemmer"
      ],
      "metadata": {
        "id": "0ylM82pFhj-_"
      },
      "execution_count": null,
      "outputs": []
    },
    {
      "cell_type": "code",
      "source": [
        "nltk.download('stopwords')\n",
        "!wget https://nlp.stanford.edu/data/glove.6B.zip\n",
        "!unzip glove.6B.zip"
      ],
      "metadata": {
        "id": "InQBSB7YGRJF",
        "colab": {
          "base_uri": "https://localhost:8080/"
        },
        "outputId": "3a3f7b56-ed10-40a9-8219-09eebd3cb09a"
      },
      "execution_count": null,
      "outputs": [
        {
          "output_type": "stream",
          "name": "stderr",
          "text": [
            "[nltk_data] Downloading package stopwords to /root/nltk_data...\n",
            "[nltk_data]   Unzipping corpora/stopwords.zip.\n"
          ]
        },
        {
          "output_type": "stream",
          "name": "stdout",
          "text": [
            "--2023-06-19 16:35:43--  https://nlp.stanford.edu/data/glove.6B.zip\n",
            "Resolving nlp.stanford.edu (nlp.stanford.edu)... 171.64.67.140\n",
            "Connecting to nlp.stanford.edu (nlp.stanford.edu)|171.64.67.140|:443... connected.\n",
            "HTTP request sent, awaiting response... 301 Moved Permanently\n",
            "Location: https://downloads.cs.stanford.edu/nlp/data/glove.6B.zip [following]\n",
            "--2023-06-19 16:35:44--  https://downloads.cs.stanford.edu/nlp/data/glove.6B.zip\n",
            "Resolving downloads.cs.stanford.edu (downloads.cs.stanford.edu)... 171.64.64.22\n",
            "Connecting to downloads.cs.stanford.edu (downloads.cs.stanford.edu)|171.64.64.22|:443... connected.\n",
            "HTTP request sent, awaiting response... 200 OK\n",
            "Length: 862182613 (822M) [application/zip]\n",
            "Saving to: ‘glove.6B.zip’\n",
            "\n",
            "glove.6B.zip        100%[===================>] 822.24M  5.04MB/s    in 2m 40s  \n",
            "\n",
            "2023-06-19 16:38:24 (5.14 MB/s) - ‘glove.6B.zip’ saved [862182613/862182613]\n",
            "\n",
            "Archive:  glove.6B.zip\n",
            "  inflating: glove.6B.50d.txt        \n",
            "  inflating: glove.6B.100d.txt       \n",
            "  inflating: glove.6B.200d.txt       \n",
            "  inflating: glove.6B.300d.txt       \n"
          ]
        }
      ]
    },
    {
      "cell_type": "code",
      "source": [
        "#@title Lectura de datos\n",
        "df_entrenamiento = pd.read_csv('/content/sample_data/snli_1.0_train.csv')\n",
        "df_pruebas = pd.read_csv('/content/sample_data/snli_1.0_test.csv')\n",
        "df_validacion = pd.read_csv('/content/sample_data/snli_1.0_dev.csv')"
      ],
      "metadata": {
        "id": "t-L6iGPcGjbx"
      },
      "execution_count": null,
      "outputs": []
    },
    {
      "cell_type": "code",
      "source": [
        "columnas = ['sentence1','sentence2','gold_label']\n",
        "entrenamiento = df_entrenamiento[columnas]\n",
        "pruebas = df_pruebas[columnas]\n",
        "validacion = df_validacion[columnas]\n",
        "\n",
        "entrenamiento.dropna(axis = 0, inplace = True)\n",
        "pruebas.dropna(axis = 0, inplace = True)\n",
        "validacion.dropna(axis = 0, inplace = True)"
      ],
      "metadata": {
        "colab": {
          "base_uri": "https://localhost:8080/"
        },
        "id": "TGxzEckTUrQQ",
        "outputId": "acc2ce9f-2289-4bca-9e52-5bdd97c5e630"
      },
      "execution_count": null,
      "outputs": [
        {
          "output_type": "stream",
          "name": "stderr",
          "text": [
            "<ipython-input-6-ab25479910e7>:6: SettingWithCopyWarning: \n",
            "A value is trying to be set on a copy of a slice from a DataFrame\n",
            "\n",
            "See the caveats in the documentation: https://pandas.pydata.org/pandas-docs/stable/user_guide/indexing.html#returning-a-view-versus-a-copy\n",
            "  entrenamiento.dropna(axis = 0, inplace = True)\n",
            "<ipython-input-6-ab25479910e7>:7: SettingWithCopyWarning: \n",
            "A value is trying to be set on a copy of a slice from a DataFrame\n",
            "\n",
            "See the caveats in the documentation: https://pandas.pydata.org/pandas-docs/stable/user_guide/indexing.html#returning-a-view-versus-a-copy\n",
            "  pruebas.dropna(axis = 0, inplace = True)\n",
            "<ipython-input-6-ab25479910e7>:8: SettingWithCopyWarning: \n",
            "A value is trying to be set on a copy of a slice from a DataFrame\n",
            "\n",
            "See the caveats in the documentation: https://pandas.pydata.org/pandas-docs/stable/user_guide/indexing.html#returning-a-view-versus-a-copy\n",
            "  validacion.dropna(axis = 0, inplace = True)\n"
          ]
        }
      ]
    },
    {
      "cell_type": "code",
      "source": [
        "\n",
        "entrenamiento = entrenamiento.loc[entrenamiento['gold_label'] != \"-\"]\n",
        "entrenamiento = entrenamiento.loc[entrenamiento['gold_label'] != \"neutral\"]\n",
        "\n",
        "pruebas = pruebas.loc[pruebas['gold_label'] != \"-\"]\n",
        "pruebas = pruebas.loc[pruebas['gold_label']!= \"neutral\"]\n",
        "pruebas\n"
      ],
      "metadata": {
        "id": "6THBrBhGGnZ5",
        "colab": {
          "base_uri": "https://localhost:8080/",
          "height": 423
        },
        "outputId": "5da064ba-36a2-4dd9-ba01-a461e5bae03d"
      },
      "execution_count": null,
      "outputs": [
        {
          "output_type": "execute_result",
          "data": {
            "text/plain": [
              "                                              sentence1  \\\n",
              "1     This church choir sings to the masses as they ...   \n",
              "2     This church choir sings to the masses as they ...   \n",
              "4     A woman with a green headscarf, blue shirt and...   \n",
              "5     A woman with a green headscarf, blue shirt and...   \n",
              "6     An old man with a package poses in front of an...   \n",
              "...                                                 ...   \n",
              "9992  A female dancer wearing all white dancing whil...   \n",
              "9995        Two women are observing something together.   \n",
              "9996        Two women are observing something together.   \n",
              "9997  A man in a black leather jacket and a book in ...   \n",
              "9998  A man in a black leather jacket and a book in ...   \n",
              "\n",
              "                                           sentence2     gold_label  \n",
              "1                    The church is filled with song.     entailment  \n",
              "2                A choir singing at a baseball game.  contradiction  \n",
              "4                           The woman is very happy.     entailment  \n",
              "5                           The woman has been shot.  contradiction  \n",
              "6                     A man poses in front of an ad.     entailment  \n",
              "...                                              ...            ...  \n",
              "9992      Some players are playing cricket in ground  contradiction  \n",
              "9995  Two women are standing with their eyes closed.  contradiction  \n",
              "9996             Two girls are looking at something.     entailment  \n",
              "9997                         A man is flying a kite.  contradiction  \n",
              "9998               A man is speaking in a classroom.     entailment  \n",
              "\n",
              "[6605 rows x 3 columns]"
            ],
            "text/html": [
              "\n",
              "  <div id=\"df-a3c60eef-7240-47ea-ba9c-2a2255b138fa\">\n",
              "    <div class=\"colab-df-container\">\n",
              "      <div>\n",
              "<style scoped>\n",
              "    .dataframe tbody tr th:only-of-type {\n",
              "        vertical-align: middle;\n",
              "    }\n",
              "\n",
              "    .dataframe tbody tr th {\n",
              "        vertical-align: top;\n",
              "    }\n",
              "\n",
              "    .dataframe thead th {\n",
              "        text-align: right;\n",
              "    }\n",
              "</style>\n",
              "<table border=\"1\" class=\"dataframe\">\n",
              "  <thead>\n",
              "    <tr style=\"text-align: right;\">\n",
              "      <th></th>\n",
              "      <th>sentence1</th>\n",
              "      <th>sentence2</th>\n",
              "      <th>gold_label</th>\n",
              "    </tr>\n",
              "  </thead>\n",
              "  <tbody>\n",
              "    <tr>\n",
              "      <th>1</th>\n",
              "      <td>This church choir sings to the masses as they ...</td>\n",
              "      <td>The church is filled with song.</td>\n",
              "      <td>entailment</td>\n",
              "    </tr>\n",
              "    <tr>\n",
              "      <th>2</th>\n",
              "      <td>This church choir sings to the masses as they ...</td>\n",
              "      <td>A choir singing at a baseball game.</td>\n",
              "      <td>contradiction</td>\n",
              "    </tr>\n",
              "    <tr>\n",
              "      <th>4</th>\n",
              "      <td>A woman with a green headscarf, blue shirt and...</td>\n",
              "      <td>The woman is very happy.</td>\n",
              "      <td>entailment</td>\n",
              "    </tr>\n",
              "    <tr>\n",
              "      <th>5</th>\n",
              "      <td>A woman with a green headscarf, blue shirt and...</td>\n",
              "      <td>The woman has been shot.</td>\n",
              "      <td>contradiction</td>\n",
              "    </tr>\n",
              "    <tr>\n",
              "      <th>6</th>\n",
              "      <td>An old man with a package poses in front of an...</td>\n",
              "      <td>A man poses in front of an ad.</td>\n",
              "      <td>entailment</td>\n",
              "    </tr>\n",
              "    <tr>\n",
              "      <th>...</th>\n",
              "      <td>...</td>\n",
              "      <td>...</td>\n",
              "      <td>...</td>\n",
              "    </tr>\n",
              "    <tr>\n",
              "      <th>9992</th>\n",
              "      <td>A female dancer wearing all white dancing whil...</td>\n",
              "      <td>Some players are playing cricket in ground</td>\n",
              "      <td>contradiction</td>\n",
              "    </tr>\n",
              "    <tr>\n",
              "      <th>9995</th>\n",
              "      <td>Two women are observing something together.</td>\n",
              "      <td>Two women are standing with their eyes closed.</td>\n",
              "      <td>contradiction</td>\n",
              "    </tr>\n",
              "    <tr>\n",
              "      <th>9996</th>\n",
              "      <td>Two women are observing something together.</td>\n",
              "      <td>Two girls are looking at something.</td>\n",
              "      <td>entailment</td>\n",
              "    </tr>\n",
              "    <tr>\n",
              "      <th>9997</th>\n",
              "      <td>A man in a black leather jacket and a book in ...</td>\n",
              "      <td>A man is flying a kite.</td>\n",
              "      <td>contradiction</td>\n",
              "    </tr>\n",
              "    <tr>\n",
              "      <th>9998</th>\n",
              "      <td>A man in a black leather jacket and a book in ...</td>\n",
              "      <td>A man is speaking in a classroom.</td>\n",
              "      <td>entailment</td>\n",
              "    </tr>\n",
              "  </tbody>\n",
              "</table>\n",
              "<p>6605 rows × 3 columns</p>\n",
              "</div>\n",
              "      <button class=\"colab-df-convert\" onclick=\"convertToInteractive('df-a3c60eef-7240-47ea-ba9c-2a2255b138fa')\"\n",
              "              title=\"Convert this dataframe to an interactive table.\"\n",
              "              style=\"display:none;\">\n",
              "        \n",
              "  <svg xmlns=\"http://www.w3.org/2000/svg\" height=\"24px\"viewBox=\"0 0 24 24\"\n",
              "       width=\"24px\">\n",
              "    <path d=\"M0 0h24v24H0V0z\" fill=\"none\"/>\n",
              "    <path d=\"M18.56 5.44l.94 2.06.94-2.06 2.06-.94-2.06-.94-.94-2.06-.94 2.06-2.06.94zm-11 1L8.5 8.5l.94-2.06 2.06-.94-2.06-.94L8.5 2.5l-.94 2.06-2.06.94zm10 10l.94 2.06.94-2.06 2.06-.94-2.06-.94-.94-2.06-.94 2.06-2.06.94z\"/><path d=\"M17.41 7.96l-1.37-1.37c-.4-.4-.92-.59-1.43-.59-.52 0-1.04.2-1.43.59L10.3 9.45l-7.72 7.72c-.78.78-.78 2.05 0 2.83L4 21.41c.39.39.9.59 1.41.59.51 0 1.02-.2 1.41-.59l7.78-7.78 2.81-2.81c.8-.78.8-2.07 0-2.86zM5.41 20L4 18.59l7.72-7.72 1.47 1.35L5.41 20z\"/>\n",
              "  </svg>\n",
              "      </button>\n",
              "      \n",
              "  <style>\n",
              "    .colab-df-container {\n",
              "      display:flex;\n",
              "      flex-wrap:wrap;\n",
              "      gap: 12px;\n",
              "    }\n",
              "\n",
              "    .colab-df-convert {\n",
              "      background-color: #E8F0FE;\n",
              "      border: none;\n",
              "      border-radius: 50%;\n",
              "      cursor: pointer;\n",
              "      display: none;\n",
              "      fill: #1967D2;\n",
              "      height: 32px;\n",
              "      padding: 0 0 0 0;\n",
              "      width: 32px;\n",
              "    }\n",
              "\n",
              "    .colab-df-convert:hover {\n",
              "      background-color: #E2EBFA;\n",
              "      box-shadow: 0px 1px 2px rgba(60, 64, 67, 0.3), 0px 1px 3px 1px rgba(60, 64, 67, 0.15);\n",
              "      fill: #174EA6;\n",
              "    }\n",
              "\n",
              "    [theme=dark] .colab-df-convert {\n",
              "      background-color: #3B4455;\n",
              "      fill: #D2E3FC;\n",
              "    }\n",
              "\n",
              "    [theme=dark] .colab-df-convert:hover {\n",
              "      background-color: #434B5C;\n",
              "      box-shadow: 0px 1px 3px 1px rgba(0, 0, 0, 0.15);\n",
              "      filter: drop-shadow(0px 1px 2px rgba(0, 0, 0, 0.3));\n",
              "      fill: #FFFFFF;\n",
              "    }\n",
              "  </style>\n",
              "\n",
              "      <script>\n",
              "        const buttonEl =\n",
              "          document.querySelector('#df-a3c60eef-7240-47ea-ba9c-2a2255b138fa button.colab-df-convert');\n",
              "        buttonEl.style.display =\n",
              "          google.colab.kernel.accessAllowed ? 'block' : 'none';\n",
              "\n",
              "        async function convertToInteractive(key) {\n",
              "          const element = document.querySelector('#df-a3c60eef-7240-47ea-ba9c-2a2255b138fa');\n",
              "          const dataTable =\n",
              "            await google.colab.kernel.invokeFunction('convertToInteractive',\n",
              "                                                     [key], {});\n",
              "          if (!dataTable) return;\n",
              "\n",
              "          const docLinkHtml = 'Like what you see? Visit the ' +\n",
              "            '<a target=\"_blank\" href=https://colab.research.google.com/notebooks/data_table.ipynb>data table notebook</a>'\n",
              "            + ' to learn more about interactive tables.';\n",
              "          element.innerHTML = '';\n",
              "          dataTable['output_type'] = 'display_data';\n",
              "          await google.colab.output.renderOutput(dataTable, element);\n",
              "          const docLink = document.createElement('div');\n",
              "          docLink.innerHTML = docLinkHtml;\n",
              "          element.appendChild(docLink);\n",
              "        }\n",
              "      </script>\n",
              "    </div>\n",
              "  </div>\n",
              "  "
            ]
          },
          "metadata": {},
          "execution_count": 7
        }
      ]
    },
    {
      "cell_type": "code",
      "source": [
        "mapeo_label = {\n",
        "    \"neutral\":0,\n",
        "    \"contradiction\":1,\n",
        "    \"entailment\":2\n",
        "}\n",
        "entrenamiento['gold_label'] = entrenamiento['gold_label'].map(mapeo_label)\n",
        "pruebas['gold_label'] = pruebas['gold_label'].map(mapeo_label)"
      ],
      "metadata": {
        "id": "XUaEXxKUeoOR"
      },
      "execution_count": null,
      "outputs": []
    },
    {
      "cell_type": "code",
      "source": [],
      "metadata": {
        "id": "euE0xQ2uf5Od"
      },
      "execution_count": null,
      "outputs": []
    },
    {
      "cell_type": "code",
      "execution_count": null,
      "metadata": {
        "colab": {
          "base_uri": "https://localhost:8080/",
          "height": 423
        },
        "id": "iJVQxcs8hYgi",
        "outputId": "5f661dc8-13cc-4428-85e5-5b641cca9f5b"
      },
      "outputs": [
        {
          "output_type": "execute_result",
          "data": {
            "text/plain": [
              "                                              sentence1  \\\n",
              "1     this church choir sings to the masses as they ...   \n",
              "2     this church choir sings to the masses as they ...   \n",
              "4     a woman with a green headscarf blue shirt and ...   \n",
              "5     a woman with a green headscarf blue shirt and ...   \n",
              "6     an old man with a package poses in front of an...   \n",
              "...                                                 ...   \n",
              "9992  a female dancer wearing all white dancing whil...   \n",
              "9995         two women are observing something together   \n",
              "9996         two women are observing something together   \n",
              "9997  a man in a black leather jacket and a book in ...   \n",
              "9998  a man in a black leather jacket and a book in ...   \n",
              "\n",
              "                                          sentence2  gold_label  \n",
              "1                    the church is filled with song           2  \n",
              "2                a choir singing at a baseball game           1  \n",
              "4                           the woman is very happy           2  \n",
              "5                           the woman has been shot           1  \n",
              "6                     a man poses in front of an ad           2  \n",
              "...                                             ...         ...  \n",
              "9992     some players are playing cricket in ground           1  \n",
              "9995  two women are standing with their eyes closed           1  \n",
              "9996             two girls are looking at something           2  \n",
              "9997                         a man is flying a kite           1  \n",
              "9998               a man is speaking in a classroom           2  \n",
              "\n",
              "[6605 rows x 3 columns]"
            ],
            "text/html": [
              "\n",
              "  <div id=\"df-fbfadbae-9167-43af-a61c-dd789b8d2b41\">\n",
              "    <div class=\"colab-df-container\">\n",
              "      <div>\n",
              "<style scoped>\n",
              "    .dataframe tbody tr th:only-of-type {\n",
              "        vertical-align: middle;\n",
              "    }\n",
              "\n",
              "    .dataframe tbody tr th {\n",
              "        vertical-align: top;\n",
              "    }\n",
              "\n",
              "    .dataframe thead th {\n",
              "        text-align: right;\n",
              "    }\n",
              "</style>\n",
              "<table border=\"1\" class=\"dataframe\">\n",
              "  <thead>\n",
              "    <tr style=\"text-align: right;\">\n",
              "      <th></th>\n",
              "      <th>sentence1</th>\n",
              "      <th>sentence2</th>\n",
              "      <th>gold_label</th>\n",
              "    </tr>\n",
              "  </thead>\n",
              "  <tbody>\n",
              "    <tr>\n",
              "      <th>1</th>\n",
              "      <td>this church choir sings to the masses as they ...</td>\n",
              "      <td>the church is filled with song</td>\n",
              "      <td>2</td>\n",
              "    </tr>\n",
              "    <tr>\n",
              "      <th>2</th>\n",
              "      <td>this church choir sings to the masses as they ...</td>\n",
              "      <td>a choir singing at a baseball game</td>\n",
              "      <td>1</td>\n",
              "    </tr>\n",
              "    <tr>\n",
              "      <th>4</th>\n",
              "      <td>a woman with a green headscarf blue shirt and ...</td>\n",
              "      <td>the woman is very happy</td>\n",
              "      <td>2</td>\n",
              "    </tr>\n",
              "    <tr>\n",
              "      <th>5</th>\n",
              "      <td>a woman with a green headscarf blue shirt and ...</td>\n",
              "      <td>the woman has been shot</td>\n",
              "      <td>1</td>\n",
              "    </tr>\n",
              "    <tr>\n",
              "      <th>6</th>\n",
              "      <td>an old man with a package poses in front of an...</td>\n",
              "      <td>a man poses in front of an ad</td>\n",
              "      <td>2</td>\n",
              "    </tr>\n",
              "    <tr>\n",
              "      <th>...</th>\n",
              "      <td>...</td>\n",
              "      <td>...</td>\n",
              "      <td>...</td>\n",
              "    </tr>\n",
              "    <tr>\n",
              "      <th>9992</th>\n",
              "      <td>a female dancer wearing all white dancing whil...</td>\n",
              "      <td>some players are playing cricket in ground</td>\n",
              "      <td>1</td>\n",
              "    </tr>\n",
              "    <tr>\n",
              "      <th>9995</th>\n",
              "      <td>two women are observing something together</td>\n",
              "      <td>two women are standing with their eyes closed</td>\n",
              "      <td>1</td>\n",
              "    </tr>\n",
              "    <tr>\n",
              "      <th>9996</th>\n",
              "      <td>two women are observing something together</td>\n",
              "      <td>two girls are looking at something</td>\n",
              "      <td>2</td>\n",
              "    </tr>\n",
              "    <tr>\n",
              "      <th>9997</th>\n",
              "      <td>a man in a black leather jacket and a book in ...</td>\n",
              "      <td>a man is flying a kite</td>\n",
              "      <td>1</td>\n",
              "    </tr>\n",
              "    <tr>\n",
              "      <th>9998</th>\n",
              "      <td>a man in a black leather jacket and a book in ...</td>\n",
              "      <td>a man is speaking in a classroom</td>\n",
              "      <td>2</td>\n",
              "    </tr>\n",
              "  </tbody>\n",
              "</table>\n",
              "<p>6605 rows × 3 columns</p>\n",
              "</div>\n",
              "      <button class=\"colab-df-convert\" onclick=\"convertToInteractive('df-fbfadbae-9167-43af-a61c-dd789b8d2b41')\"\n",
              "              title=\"Convert this dataframe to an interactive table.\"\n",
              "              style=\"display:none;\">\n",
              "        \n",
              "  <svg xmlns=\"http://www.w3.org/2000/svg\" height=\"24px\"viewBox=\"0 0 24 24\"\n",
              "       width=\"24px\">\n",
              "    <path d=\"M0 0h24v24H0V0z\" fill=\"none\"/>\n",
              "    <path d=\"M18.56 5.44l.94 2.06.94-2.06 2.06-.94-2.06-.94-.94-2.06-.94 2.06-2.06.94zm-11 1L8.5 8.5l.94-2.06 2.06-.94-2.06-.94L8.5 2.5l-.94 2.06-2.06.94zm10 10l.94 2.06.94-2.06 2.06-.94-2.06-.94-.94-2.06-.94 2.06-2.06.94z\"/><path d=\"M17.41 7.96l-1.37-1.37c-.4-.4-.92-.59-1.43-.59-.52 0-1.04.2-1.43.59L10.3 9.45l-7.72 7.72c-.78.78-.78 2.05 0 2.83L4 21.41c.39.39.9.59 1.41.59.51 0 1.02-.2 1.41-.59l7.78-7.78 2.81-2.81c.8-.78.8-2.07 0-2.86zM5.41 20L4 18.59l7.72-7.72 1.47 1.35L5.41 20z\"/>\n",
              "  </svg>\n",
              "      </button>\n",
              "      \n",
              "  <style>\n",
              "    .colab-df-container {\n",
              "      display:flex;\n",
              "      flex-wrap:wrap;\n",
              "      gap: 12px;\n",
              "    }\n",
              "\n",
              "    .colab-df-convert {\n",
              "      background-color: #E8F0FE;\n",
              "      border: none;\n",
              "      border-radius: 50%;\n",
              "      cursor: pointer;\n",
              "      display: none;\n",
              "      fill: #1967D2;\n",
              "      height: 32px;\n",
              "      padding: 0 0 0 0;\n",
              "      width: 32px;\n",
              "    }\n",
              "\n",
              "    .colab-df-convert:hover {\n",
              "      background-color: #E2EBFA;\n",
              "      box-shadow: 0px 1px 2px rgba(60, 64, 67, 0.3), 0px 1px 3px 1px rgba(60, 64, 67, 0.15);\n",
              "      fill: #174EA6;\n",
              "    }\n",
              "\n",
              "    [theme=dark] .colab-df-convert {\n",
              "      background-color: #3B4455;\n",
              "      fill: #D2E3FC;\n",
              "    }\n",
              "\n",
              "    [theme=dark] .colab-df-convert:hover {\n",
              "      background-color: #434B5C;\n",
              "      box-shadow: 0px 1px 3px 1px rgba(0, 0, 0, 0.15);\n",
              "      filter: drop-shadow(0px 1px 2px rgba(0, 0, 0, 0.3));\n",
              "      fill: #FFFFFF;\n",
              "    }\n",
              "  </style>\n",
              "\n",
              "      <script>\n",
              "        const buttonEl =\n",
              "          document.querySelector('#df-fbfadbae-9167-43af-a61c-dd789b8d2b41 button.colab-df-convert');\n",
              "        buttonEl.style.display =\n",
              "          google.colab.kernel.accessAllowed ? 'block' : 'none';\n",
              "\n",
              "        async function convertToInteractive(key) {\n",
              "          const element = document.querySelector('#df-fbfadbae-9167-43af-a61c-dd789b8d2b41');\n",
              "          const dataTable =\n",
              "            await google.colab.kernel.invokeFunction('convertToInteractive',\n",
              "                                                     [key], {});\n",
              "          if (!dataTable) return;\n",
              "\n",
              "          const docLinkHtml = 'Like what you see? Visit the ' +\n",
              "            '<a target=\"_blank\" href=https://colab.research.google.com/notebooks/data_table.ipynb>data table notebook</a>'\n",
              "            + ' to learn more about interactive tables.';\n",
              "          element.innerHTML = '';\n",
              "          dataTable['output_type'] = 'display_data';\n",
              "          await google.colab.output.renderOutput(dataTable, element);\n",
              "          const docLink = document.createElement('div');\n",
              "          docLink.innerHTML = docLinkHtml;\n",
              "          element.appendChild(docLink);\n",
              "        }\n",
              "      </script>\n",
              "    </div>\n",
              "  </div>\n",
              "  "
            ]
          },
          "metadata": {},
          "execution_count": 9
        }
      ],
      "source": [
        "#@title Limpieza de datos\n",
        "def limpiarTexto(texto):\n",
        "  texto = str(texto).lower()\n",
        "  texto = re.sub('\\[.*?\\]', '', texto)\n",
        "  texto = re.sub('<.*?>+', '', texto)\n",
        "  texto = re.sub('\\n', '', texto)\n",
        "  texto = re.sub('[%s]' % re.escape(string.punctuation), '', texto)\n",
        "  texto = re.sub('\\w*\\d\\w*', '', texto)\n",
        "  return texto\n",
        "\n",
        "entrenamiento['sentence1'] = entrenamiento['sentence1'].apply(limpiarTexto)\n",
        "entrenamiento['sentence2'] = entrenamiento['sentence2'].apply(limpiarTexto)\n",
        "\n",
        "pruebas['sentence2'] = pruebas['sentence2'].apply(limpiarTexto)\n",
        "pruebas['sentence1'] = pruebas['sentence1'].apply(limpiarTexto)\n",
        "\n",
        "pruebas"
      ]
    },
    {
      "cell_type": "code",
      "execution_count": null,
      "metadata": {
        "colab": {
          "base_uri": "https://localhost:8080/",
          "height": 423
        },
        "id": "0xkcTF-wlqyp",
        "outputId": "9825e165-1269-4c38-f7b6-273f13dcf34a"
      },
      "outputs": [
        {
          "output_type": "execute_result",
          "data": {
            "text/plain": [
              "                                              sentence1  \\\n",
              "1     church choir sings masses sing joyous songs bo...   \n",
              "2     church choir sings masses sing joyous songs bo...   \n",
              "4             woman green headscarf blue shirt big grin   \n",
              "5             woman green headscarf blue shirt big grin   \n",
              "6             old man package poses front advertisement   \n",
              "...                                                 ...   \n",
              "9992  female dancer wearing white dancing photograph...   \n",
              "9995             two women observing something together   \n",
              "9996             two women observing something together   \n",
              "9997  man black leather jacket book hand speaks clas...   \n",
              "9998  man black leather jacket book hand speaks clas...   \n",
              "\n",
              "                           sentence2  gold_label  \n",
              "1                 church filled song           2  \n",
              "2        choir singing baseball game           1  \n",
              "4                        woman happy           2  \n",
              "5                         woman shot           1  \n",
              "6                 man poses front ad           2  \n",
              "...                              ...         ...  \n",
              "9992  players playing cricket ground           1  \n",
              "9995  two women standing eyes closed           1  \n",
              "9996     two girls looking something           2  \n",
              "9997                 man flying kite           1  \n",
              "9998          man speaking classroom           2  \n",
              "\n",
              "[6605 rows x 3 columns]"
            ],
            "text/html": [
              "\n",
              "  <div id=\"df-8b16ef61-0e52-4578-9e09-db4b0bca028d\">\n",
              "    <div class=\"colab-df-container\">\n",
              "      <div>\n",
              "<style scoped>\n",
              "    .dataframe tbody tr th:only-of-type {\n",
              "        vertical-align: middle;\n",
              "    }\n",
              "\n",
              "    .dataframe tbody tr th {\n",
              "        vertical-align: top;\n",
              "    }\n",
              "\n",
              "    .dataframe thead th {\n",
              "        text-align: right;\n",
              "    }\n",
              "</style>\n",
              "<table border=\"1\" class=\"dataframe\">\n",
              "  <thead>\n",
              "    <tr style=\"text-align: right;\">\n",
              "      <th></th>\n",
              "      <th>sentence1</th>\n",
              "      <th>sentence2</th>\n",
              "      <th>gold_label</th>\n",
              "    </tr>\n",
              "  </thead>\n",
              "  <tbody>\n",
              "    <tr>\n",
              "      <th>1</th>\n",
              "      <td>church choir sings masses sing joyous songs bo...</td>\n",
              "      <td>church filled song</td>\n",
              "      <td>2</td>\n",
              "    </tr>\n",
              "    <tr>\n",
              "      <th>2</th>\n",
              "      <td>church choir sings masses sing joyous songs bo...</td>\n",
              "      <td>choir singing baseball game</td>\n",
              "      <td>1</td>\n",
              "    </tr>\n",
              "    <tr>\n",
              "      <th>4</th>\n",
              "      <td>woman green headscarf blue shirt big grin</td>\n",
              "      <td>woman happy</td>\n",
              "      <td>2</td>\n",
              "    </tr>\n",
              "    <tr>\n",
              "      <th>5</th>\n",
              "      <td>woman green headscarf blue shirt big grin</td>\n",
              "      <td>woman shot</td>\n",
              "      <td>1</td>\n",
              "    </tr>\n",
              "    <tr>\n",
              "      <th>6</th>\n",
              "      <td>old man package poses front advertisement</td>\n",
              "      <td>man poses front ad</td>\n",
              "      <td>2</td>\n",
              "    </tr>\n",
              "    <tr>\n",
              "      <th>...</th>\n",
              "      <td>...</td>\n",
              "      <td>...</td>\n",
              "      <td>...</td>\n",
              "    </tr>\n",
              "    <tr>\n",
              "      <th>9992</th>\n",
              "      <td>female dancer wearing white dancing photograph...</td>\n",
              "      <td>players playing cricket ground</td>\n",
              "      <td>1</td>\n",
              "    </tr>\n",
              "    <tr>\n",
              "      <th>9995</th>\n",
              "      <td>two women observing something together</td>\n",
              "      <td>two women standing eyes closed</td>\n",
              "      <td>1</td>\n",
              "    </tr>\n",
              "    <tr>\n",
              "      <th>9996</th>\n",
              "      <td>two women observing something together</td>\n",
              "      <td>two girls looking something</td>\n",
              "      <td>2</td>\n",
              "    </tr>\n",
              "    <tr>\n",
              "      <th>9997</th>\n",
              "      <td>man black leather jacket book hand speaks clas...</td>\n",
              "      <td>man flying kite</td>\n",
              "      <td>1</td>\n",
              "    </tr>\n",
              "    <tr>\n",
              "      <th>9998</th>\n",
              "      <td>man black leather jacket book hand speaks clas...</td>\n",
              "      <td>man speaking classroom</td>\n",
              "      <td>2</td>\n",
              "    </tr>\n",
              "  </tbody>\n",
              "</table>\n",
              "<p>6605 rows × 3 columns</p>\n",
              "</div>\n",
              "      <button class=\"colab-df-convert\" onclick=\"convertToInteractive('df-8b16ef61-0e52-4578-9e09-db4b0bca028d')\"\n",
              "              title=\"Convert this dataframe to an interactive table.\"\n",
              "              style=\"display:none;\">\n",
              "        \n",
              "  <svg xmlns=\"http://www.w3.org/2000/svg\" height=\"24px\"viewBox=\"0 0 24 24\"\n",
              "       width=\"24px\">\n",
              "    <path d=\"M0 0h24v24H0V0z\" fill=\"none\"/>\n",
              "    <path d=\"M18.56 5.44l.94 2.06.94-2.06 2.06-.94-2.06-.94-.94-2.06-.94 2.06-2.06.94zm-11 1L8.5 8.5l.94-2.06 2.06-.94-2.06-.94L8.5 2.5l-.94 2.06-2.06.94zm10 10l.94 2.06.94-2.06 2.06-.94-2.06-.94-.94-2.06-.94 2.06-2.06.94z\"/><path d=\"M17.41 7.96l-1.37-1.37c-.4-.4-.92-.59-1.43-.59-.52 0-1.04.2-1.43.59L10.3 9.45l-7.72 7.72c-.78.78-.78 2.05 0 2.83L4 21.41c.39.39.9.59 1.41.59.51 0 1.02-.2 1.41-.59l7.78-7.78 2.81-2.81c.8-.78.8-2.07 0-2.86zM5.41 20L4 18.59l7.72-7.72 1.47 1.35L5.41 20z\"/>\n",
              "  </svg>\n",
              "      </button>\n",
              "      \n",
              "  <style>\n",
              "    .colab-df-container {\n",
              "      display:flex;\n",
              "      flex-wrap:wrap;\n",
              "      gap: 12px;\n",
              "    }\n",
              "\n",
              "    .colab-df-convert {\n",
              "      background-color: #E8F0FE;\n",
              "      border: none;\n",
              "      border-radius: 50%;\n",
              "      cursor: pointer;\n",
              "      display: none;\n",
              "      fill: #1967D2;\n",
              "      height: 32px;\n",
              "      padding: 0 0 0 0;\n",
              "      width: 32px;\n",
              "    }\n",
              "\n",
              "    .colab-df-convert:hover {\n",
              "      background-color: #E2EBFA;\n",
              "      box-shadow: 0px 1px 2px rgba(60, 64, 67, 0.3), 0px 1px 3px 1px rgba(60, 64, 67, 0.15);\n",
              "      fill: #174EA6;\n",
              "    }\n",
              "\n",
              "    [theme=dark] .colab-df-convert {\n",
              "      background-color: #3B4455;\n",
              "      fill: #D2E3FC;\n",
              "    }\n",
              "\n",
              "    [theme=dark] .colab-df-convert:hover {\n",
              "      background-color: #434B5C;\n",
              "      box-shadow: 0px 1px 3px 1px rgba(0, 0, 0, 0.15);\n",
              "      filter: drop-shadow(0px 1px 2px rgba(0, 0, 0, 0.3));\n",
              "      fill: #FFFFFF;\n",
              "    }\n",
              "  </style>\n",
              "\n",
              "      <script>\n",
              "        const buttonEl =\n",
              "          document.querySelector('#df-8b16ef61-0e52-4578-9e09-db4b0bca028d button.colab-df-convert');\n",
              "        buttonEl.style.display =\n",
              "          google.colab.kernel.accessAllowed ? 'block' : 'none';\n",
              "\n",
              "        async function convertToInteractive(key) {\n",
              "          const element = document.querySelector('#df-8b16ef61-0e52-4578-9e09-db4b0bca028d');\n",
              "          const dataTable =\n",
              "            await google.colab.kernel.invokeFunction('convertToInteractive',\n",
              "                                                     [key], {});\n",
              "          if (!dataTable) return;\n",
              "\n",
              "          const docLinkHtml = 'Like what you see? Visit the ' +\n",
              "            '<a target=\"_blank\" href=https://colab.research.google.com/notebooks/data_table.ipynb>data table notebook</a>'\n",
              "            + ' to learn more about interactive tables.';\n",
              "          element.innerHTML = '';\n",
              "          dataTable['output_type'] = 'display_data';\n",
              "          await google.colab.output.renderOutput(dataTable, element);\n",
              "          const docLink = document.createElement('div');\n",
              "          docLink.innerHTML = docLinkHtml;\n",
              "          element.appendChild(docLink);\n",
              "        }\n",
              "      </script>\n",
              "    </div>\n",
              "  </div>\n",
              "  "
            ]
          },
          "metadata": {},
          "execution_count": 10
        }
      ],
      "source": [
        "stop_words = stopwords.words('english')\n",
        "more_stopwords = ['u', 'im', 'c']\n",
        "stop_words = stop_words + more_stopwords\n",
        "\n",
        "def remove_stopwords(text):\n",
        "    text = ' '.join(word for word in text.split(' ') if word not in stop_words)\n",
        "    return text\n",
        "entrenamiento['sentence1'] = entrenamiento['sentence1'].apply(remove_stopwords)\n",
        "entrenamiento['sentence2'] = entrenamiento['sentence2'].apply(remove_stopwords)\n",
        "\n",
        "pruebas['sentence1'] = pruebas['sentence1'].apply(remove_stopwords)\n",
        "pruebas['sentence2'] = pruebas['sentence2'].apply(remove_stopwords)\n",
        "\n",
        "pruebas"
      ]
    },
    {
      "cell_type": "code",
      "source": [
        "#stemmer VEREMOS SI SE APLICA O NO"
      ],
      "metadata": {
        "id": "OxeRkUMPiDNU"
      },
      "execution_count": null,
      "outputs": []
    },
    {
      "cell_type": "code",
      "execution_count": null,
      "metadata": {
        "id": "U4dT4HRrOSmg"
      },
      "outputs": [],
      "source": [
        "#@title Tokenización\n",
        "tokens_entrenamiento = np.asarray([entrenamiento['sentence1'],entrenamiento['sentence2']])\n",
        "tokens_entrenamiento = tokens_entrenamiento.reshape(-1,1)\n",
        "tokens_prueba = np.asarray([pruebas['sentence1'],pruebas['sentence2']])\n",
        "tokens_entrenamiento = tokens_entrenamiento.reshape(tokens_entrenamiento.shape[0])"
      ]
    },
    {
      "cell_type": "code",
      "source": [
        "tokenizador = Tokenizer(num_words = 6000)\n",
        "tokenizador.fit_on_texts(tokens_entrenamiento)\n",
        "tokenizador"
      ],
      "metadata": {
        "colab": {
          "base_uri": "https://localhost:8080/"
        },
        "id": "NuOumrd3BtQM",
        "outputId": "8d3bb30f-1562-4059-8a07-a10d520083c1"
      },
      "execution_count": null,
      "outputs": [
        {
          "output_type": "execute_result",
          "data": {
            "text/plain": [
              "<keras.preprocessing.text.Tokenizer at 0x7f676c77e140>"
            ]
          },
          "metadata": {},
          "execution_count": 13
        }
      ]
    },
    {
      "cell_type": "code",
      "source": [
        "premisa = tokenizador.texts_to_sequences(entrenamiento['sentence1'])\n",
        "premisa = pad_sequences(premisa)\n",
        "\n",
        "hipotesis = tokenizador.texts_to_sequences(entrenamiento['sentence2'])\n",
        "hipotesis = pad_sequences(hipotesis, maxlen=premisa.shape[1])\n"
      ],
      "metadata": {
        "id": "WSjqPeToCzA7"
      },
      "execution_count": null,
      "outputs": []
    },
    {
      "cell_type": "code",
      "source": [
        "premisa_prueba = tokenizador.texts_to_sequences(pruebas['sentence1'])\n",
        "premisa_prueba = pad_sequences(premisa_prueba,45)\n",
        "\n",
        "hipotesis_prueba = tokenizador.texts_to_sequences(pruebas['sentence2'])\n",
        "hipotesis_prueba = pad_sequences(hipotesis_prueba,maxlen = premisa_prueba.shape[1])\n",
        "\n",
        "etiquetas_prueba = to_categorical(pruebas['gold_label'])"
      ],
      "metadata": {
        "id": "IzCuYWubv_GW"
      },
      "execution_count": null,
      "outputs": []
    },
    {
      "cell_type": "code",
      "source": [
        "#@title Etiquetas\n",
        "etiquetas = to_categorical(entrenamiento['gold_label'])\n",
        "etiquetas"
      ],
      "metadata": {
        "colab": {
          "base_uri": "https://localhost:8080/"
        },
        "id": "G1r-t_RLDv8Q",
        "outputId": "2ad8d570-1518-4213-8140-0ae3cdd85348"
      },
      "execution_count": null,
      "outputs": [
        {
          "output_type": "execute_result",
          "data": {
            "text/plain": [
              "array([[0., 1., 0.],\n",
              "       [0., 0., 1.],\n",
              "       [0., 0., 1.],\n",
              "       ...,\n",
              "       [0., 0., 1.],\n",
              "       [0., 1., 0.],\n",
              "       [0., 0., 1.]], dtype=float32)"
            ]
          },
          "metadata": {},
          "execution_count": 15
        }
      ]
    },
    {
      "cell_type": "code",
      "source": [
        "#@title Embedding\n",
        "vocabulario = len(tokenizador.word_index)\n",
        "\n",
        "def gloveWork(archivo,vocabulario):\n",
        "  #Se crea un diccionario palabra-vector de un modelo preentrenado(Glove)\n",
        "  embeddings_index = {}\n",
        "  file_ = open(archivo)\n",
        "  for line in file_:\n",
        "      arr = line.split()\n",
        "      palabra = arr[0]\n",
        "      vector = np.asarray(arr[1:],dtype='float32')\n",
        "      embeddings_index[palabra] = vector\n",
        "  file_.close()\n",
        "\n",
        "  tam_maximo = vocabulario +1\n",
        "  indices_palabras = tokenizador.word_index\n",
        "  embedding_matriz = np.zeros((tam_maximo,300)).astype(object)\n",
        "\n",
        "  for palabrax, indice in indices_palabras.items():\n",
        "    vector_entrenado = embeddings_index.get(palabrax)\n",
        "    if vector_entrenado is not None:\n",
        "      embedding_matriz[indice] = vector_entrenado\n",
        "\n",
        "  return embedding_matriz\n"
      ],
      "metadata": {
        "id": "AgbzrYxPDxf1"
      },
      "execution_count": null,
      "outputs": []
    },
    {
      "cell_type": "code",
      "source": [
        "matriz_embedding = gloveWork('glove.6B.300d.txt',vocabulario)"
      ],
      "metadata": {
        "id": "GtMMKoYoLwZI"
      },
      "execution_count": null,
      "outputs": []
    },
    {
      "cell_type": "code",
      "source": [
        "matriz_embedding.shape"
      ],
      "metadata": {
        "colab": {
          "base_uri": "https://localhost:8080/"
        },
        "id": "UPVzPoVFMMvL",
        "outputId": "281a5581-5364-4fdd-e081-75b1bc101cb2"
      },
      "execution_count": null,
      "outputs": [
        {
          "output_type": "execute_result",
          "data": {
            "text/plain": [
              "(11161, 300)"
            ]
          },
          "metadata": {},
          "execution_count": 18
        }
      ]
    },
    {
      "cell_type": "code",
      "source": [
        "#@title Hiperparámetros\n",
        "dropout = 0.2\n",
        "L2 = 4e-6\n",
        "learning_rate = 0.01\n",
        "paciencia = 4\n",
        "rho = 0.9\n",
        "epsilon = 1e-08\n",
        "decay = 0.0\n",
        "validacion_split = 0.02\n",
        "epoch = 20"
      ],
      "metadata": {
        "id": "FMreEC2Vel5_"
      },
      "execution_count": null,
      "outputs": []
    },
    {
      "cell_type": "code",
      "source": [
        "embedding = Embedding(input_dim=matriz_embedding.shape[0],\n",
        "                          output_dim=300,\n",
        "                          weights=[matriz_embedding],\n",
        "                          input_length=42,\n",
        "                          trainable=False)\n",
        "BiLSTM = Bidirectional(LSTM(64))\n",
        "translation = TimeDistributed(Dense(300, activation='relu'))\n",
        "premise = Input(shape=(45,), dtype='int32')\n",
        "hypothesis = Input(shape=(45,), dtype='int32')\n",
        "premise_embedded = embedding(premise)\n",
        "hypothesis_embedded = embedding(hypothesis)\n",
        "premise_translated = translation(premise_embedded)\n",
        "hypothesis_translated = translation(hypothesis_embedded)\n",
        "premise_BiLSTM = BiLSTM(premise_translated)\n",
        "hypothesis_BiLSTM = BiLSTM(hypothesis_translated)\n",
        "premise_normalized = BatchNormalization()(premise_BiLSTM)\n",
        "hypothesis_normalized = BatchNormalization()(hypothesis_BiLSTM)\n",
        "\n",
        "train_input = concatenate([premise_normalized, hypothesis_normalized])\n",
        "train_input = Dropout(dropout)(train_input)\n",
        "# Apply the (Dense layer, Dropout layer. Batch normalization layer) unit : 1\n",
        "train_input = Dense(2 * 300, activation='relu', kernel_regularizer=l2(L2))(train_input)\n",
        "train_input = Dropout(dropout)(train_input)\n",
        "train_input = BatchNormalization()(train_input)\n",
        "\n",
        "# Apply the (Dense layer, Dropout layer. Batch normalization layer) unit : 2\n",
        "train_input = Dense(2 * 300, activation='relu', kernel_regularizer=l2(L2))(train_input)\n",
        "train_input = Dropout(dropout)(train_input)\n",
        "train_input = BatchNormalization()(train_input)\n",
        "\n",
        "# Apply the (Dense layer, Dropout layer. Batch normalization layer) unit : 3\n",
        "train_input = Dense(2 * 300, activation='relu', kernel_regularizer=l2(L2))(train_input)\n",
        "train_input = Dropout(dropout)(train_input)\n",
        "train_input = BatchNormalization()(train_input)\n",
        "\n",
        "prediction = Dense(3, activation='softmax')(train_input)\n",
        "model = Model(inputs=[premise, hypothesis], outputs=prediction)\n",
        "optimizer = RMSprop(lr=learning_rate, rho=rho, epsilon=epsilon, decay=decay)\n",
        "\n",
        "model.compile(optimizer=optimizer, loss='categorical_crossentropy', metrics=['accuracy'])\n",
        "model.summary()\n"
      ],
      "metadata": {
        "colab": {
          "base_uri": "https://localhost:8080/"
        },
        "id": "hLYXajo_MS41",
        "outputId": "dd281e7c-ed76-4644-c16f-d6ea08fb9d34"
      },
      "execution_count": null,
      "outputs": [
        {
          "output_type": "stream",
          "name": "stdout",
          "text": [
            "Model: \"model_1\"\n",
            "__________________________________________________________________________________________________\n",
            " Layer (type)                   Output Shape         Param #     Connected to                     \n",
            "==================================================================================================\n",
            " input_3 (InputLayer)           [(None, 45)]         0           []                               \n",
            "                                                                                                  \n",
            " input_4 (InputLayer)           [(None, 45)]         0           []                               \n",
            "                                                                                                  \n",
            " embedding_1 (Embedding)        (None, 45, 300)      3348300     ['input_3[0][0]',                \n",
            "                                                                  'input_4[0][0]']                \n",
            "                                                                                                  \n",
            " time_distributed_1 (TimeDistri  (None, 45, 300)     90300       ['embedding_1[0][0]',            \n",
            " buted)                                                           'embedding_1[1][0]']            \n",
            "                                                                                                  \n",
            " bidirectional_1 (Bidirectional  (None, 128)         186880      ['time_distributed_1[0][0]',     \n",
            " )                                                                'time_distributed_1[1][0]']     \n",
            "                                                                                                  \n",
            " batch_normalization_5 (BatchNo  (None, 128)         512         ['bidirectional_1[0][0]']        \n",
            " rmalization)                                                                                     \n",
            "                                                                                                  \n",
            " batch_normalization_6 (BatchNo  (None, 128)         512         ['bidirectional_1[1][0]']        \n",
            " rmalization)                                                                                     \n",
            "                                                                                                  \n",
            " concatenate_1 (Concatenate)    (None, 256)          0           ['batch_normalization_5[0][0]',  \n",
            "                                                                  'batch_normalization_6[0][0]']  \n",
            "                                                                                                  \n",
            " dropout_4 (Dropout)            (None, 256)          0           ['concatenate_1[0][0]']          \n",
            "                                                                                                  \n",
            " dense_6 (Dense)                (None, 600)          154200      ['dropout_4[0][0]']              \n",
            "                                                                                                  \n",
            " dropout_5 (Dropout)            (None, 600)          0           ['dense_6[0][0]']                \n",
            "                                                                                                  \n",
            " batch_normalization_7 (BatchNo  (None, 600)         2400        ['dropout_5[0][0]']              \n",
            " rmalization)                                                                                     \n",
            "                                                                                                  \n",
            " dense_7 (Dense)                (None, 600)          360600      ['batch_normalization_7[0][0]']  \n",
            "                                                                                                  \n",
            " dropout_6 (Dropout)            (None, 600)          0           ['dense_7[0][0]']                \n",
            "                                                                                                  \n",
            " batch_normalization_8 (BatchNo  (None, 600)         2400        ['dropout_6[0][0]']              \n",
            " rmalization)                                                                                     \n",
            "                                                                                                  \n",
            " dense_8 (Dense)                (None, 600)          360600      ['batch_normalization_8[0][0]']  \n",
            "                                                                                                  \n",
            " dropout_7 (Dropout)            (None, 600)          0           ['dense_8[0][0]']                \n",
            "                                                                                                  \n",
            " batch_normalization_9 (BatchNo  (None, 600)         2400        ['dropout_7[0][0]']              \n",
            " rmalization)                                                                                     \n",
            "                                                                                                  \n",
            " dense_9 (Dense)                (None, 3)            1803        ['batch_normalization_9[0][0]']  \n",
            "                                                                                                  \n",
            "==================================================================================================\n",
            "Total params: 4,510,907\n",
            "Trainable params: 1,158,495\n",
            "Non-trainable params: 3,352,412\n",
            "__________________________________________________________________________________________________\n"
          ]
        }
      ]
    },
    {
      "cell_type": "code",
      "source": [
        "learning_rate_reduction = ReduceLROnPlateau(monitor='val_accuracy',\n",
        "                                            patience=paciencia,\n",
        "                                            verbose=1,\n",
        "                                            factor=0.5,\n",
        "                                            min_lr=0.00001)\n",
        "early_stopping = EarlyStopping(monitor='val_loss',patience=paciencia)\n",
        "_, tmpfn = tempfile.mkstemp()\n",
        "model_checkpoint = ModelCheckpoint(tmpfn, save_best_only=True, save_weights_only=True)\n",
        "callbacks = [early_stopping, model_checkpoint, learning_rate_reduction]\n",
        "\n",
        "history = model.fit(x=[premisa, hipotesis],\n",
        "                    y=etiquetas,\n",
        "                    batch_size=512,\n",
        "                    epochs=epoch,\n",
        "                    validation_split=validacion_split,\n",
        "                    callbacks=callbacks)\n"
      ],
      "metadata": {
        "colab": {
          "base_uri": "https://localhost:8080/"
        },
        "id": "PrughcHSPDm2",
        "outputId": "24adc0c1-1fed-42a9-fa8a-981b6337ed25"
      },
      "execution_count": null,
      "outputs": [
        {
          "output_type": "stream",
          "name": "stdout",
          "text": [
            "Epoch 1/20\n",
            "73/73 [==============================] - 169s 2s/step - loss: 1.0594 - accuracy: 0.5880 - val_loss: 0.6595 - val_accuracy: 0.6288 - lr: 0.0100\n",
            "Epoch 2/20\n",
            "73/73 [==============================] - 156s 2s/step - loss: 0.6332 - accuracy: 0.6978 - val_loss: 0.8935 - val_accuracy: 0.6552 - lr: 0.0100\n",
            "Epoch 3/20\n",
            "73/73 [==============================] - 156s 2s/step - loss: 0.5432 - accuracy: 0.7373 - val_loss: 0.6359 - val_accuracy: 0.6737 - lr: 0.0100\n",
            "Epoch 4/20\n",
            "73/73 [==============================] - 152s 2s/step - loss: 0.5093 - accuracy: 0.7573 - val_loss: 0.5696 - val_accuracy: 0.6830 - lr: 0.0100\n",
            "Epoch 5/20\n",
            "73/73 [==============================] - 154s 2s/step - loss: 0.4747 - accuracy: 0.7774 - val_loss: 0.5634 - val_accuracy: 0.7781 - lr: 0.0100\n",
            "Epoch 6/20\n",
            "73/73 [==============================] - 156s 2s/step - loss: 0.4506 - accuracy: 0.7907 - val_loss: 0.7471 - val_accuracy: 0.7001 - lr: 0.0100\n",
            "Epoch 7/20\n",
            "73/73 [==============================] - 154s 2s/step - loss: 0.4306 - accuracy: 0.8037 - val_loss: 0.4794 - val_accuracy: 0.7807 - lr: 0.0100\n",
            "Epoch 8/20\n",
            "73/73 [==============================] - 153s 2s/step - loss: 0.4078 - accuracy: 0.8190 - val_loss: 0.5905 - val_accuracy: 0.7781 - lr: 0.0100\n",
            "Epoch 9/20\n",
            "73/73 [==============================] - 152s 2s/step - loss: 0.3877 - accuracy: 0.8313 - val_loss: 0.5154 - val_accuracy: 0.7701 - lr: 0.0100\n",
            "Epoch 10/20\n",
            "73/73 [==============================] - 152s 2s/step - loss: 0.3729 - accuracy: 0.8397 - val_loss: 0.6019 - val_accuracy: 0.7530 - lr: 0.0100\n",
            "Epoch 11/20\n",
            "73/73 [==============================] - ETA: 0s - loss: 0.3609 - accuracy: 0.8478\n",
            "Epoch 11: ReduceLROnPlateau reducing learning rate to 0.004999999888241291.\n",
            "73/73 [==============================] - 150s 2s/step - loss: 0.3609 - accuracy: 0.8478 - val_loss: 0.4743 - val_accuracy: 0.7609 - lr: 0.0100\n",
            "Epoch 12/20\n",
            "73/73 [==============================] - 151s 2s/step - loss: 0.3122 - accuracy: 0.8693 - val_loss: 0.4355 - val_accuracy: 0.8111 - lr: 0.0050\n",
            "Epoch 13/20\n",
            "73/73 [==============================] - 144s 2s/step - loss: 0.2857 - accuracy: 0.8836 - val_loss: 0.4622 - val_accuracy: 0.8018 - lr: 0.0050\n",
            "Epoch 14/20\n",
            "73/73 [==============================] - 140s 2s/step - loss: 0.2684 - accuracy: 0.8940 - val_loss: 0.4601 - val_accuracy: 0.7820 - lr: 0.0050\n",
            "Epoch 15/20\n",
            "73/73 [==============================] - 142s 2s/step - loss: 0.2539 - accuracy: 0.9003 - val_loss: 0.4613 - val_accuracy: 0.7952 - lr: 0.0050\n",
            "Epoch 16/20\n",
            "73/73 [==============================] - ETA: 0s - loss: 0.2472 - accuracy: 0.9020\n",
            "Epoch 16: ReduceLROnPlateau reducing learning rate to 0.0024999999441206455.\n",
            "73/73 [==============================] - 141s 2s/step - loss: 0.2472 - accuracy: 0.9020 - val_loss: 0.5398 - val_accuracy: 0.7675 - lr: 0.0050\n"
          ]
        }
      ]
    },
    {
      "cell_type": "code",
      "source": [
        "datos_prueba = [premisa_prueba, hipotesis_prueba]\n",
        "evaluacion = model.evaluate(datos_prueba,etiquetas_prueba)"
      ],
      "metadata": {
        "colab": {
          "base_uri": "https://localhost:8080/"
        },
        "id": "-YLziho2vo20",
        "outputId": "f8e2e776-1997-4dca-cdf8-5b5b869222cb"
      },
      "execution_count": null,
      "outputs": [
        {
          "output_type": "stream",
          "name": "stdout",
          "text": [
            "207/207 [==============================] - 19s 91ms/step - loss: 0.5310 - accuracy: 0.7785\n"
          ]
        }
      ]
    },
    {
      "cell_type": "code",
      "source": [],
      "metadata": {
        "id": "yo8MtA92w-GZ"
      },
      "execution_count": null,
      "outputs": []
    }
  ]
}